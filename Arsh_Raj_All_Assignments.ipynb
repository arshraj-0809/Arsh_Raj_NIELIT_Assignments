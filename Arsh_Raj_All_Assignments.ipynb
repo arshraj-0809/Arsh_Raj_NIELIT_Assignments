{
  "cells": [
    {
      "cell_type": "markdown",
      "metadata": {
        "id": "mENqb122pS5o"
      },
      "source": [
        "# **Name - Arsh Raj, Course - Python With Data Science and Machine Learning (4 Weeks)**"
      ]
    },
    {
      "cell_type": "markdown",
      "metadata": {
        "id": "MIogQuwQGZtK"
      },
      "source": [
        "## **Assignmnet 1**"
      ]
    },
    {
      "cell_type": "markdown",
      "metadata": {
        "id": "vvYpT5o2G8q5"
      },
      "source": [
        "**Q1 Declare and Print**"
      ]
    },
    {
      "cell_type": "code",
      "execution_count": null,
      "metadata": {
        "colab": {
          "base_uri": "https://localhost:8080/"
        },
        "id": "mhM0M6emHG7C",
        "outputId": "c0fa693c-b020-40a8-f5af-e152fae3fb3e"
      },
      "outputs": [
        {
          "name": "stdout",
          "output_type": "stream",
          "text": [
            "Name - Arsh Raj, Course - Python With Data Science and Machine Learning (4 Weeks)\n",
            "Assignment 1\n",
            "Q1 Declare and Print\n"
          ]
        }
      ],
      "source": [
        "Name = \"Arsh Raj\"\n",
        "Course = \"Python With Data Science and Machine Learning (4 Weeks)\"\n",
        "Assignment = \"Assignment 1\"\n",
        "Question = \"Q1 Declare and Print\"\n",
        "\n",
        "print(f\"Name - {Name}, Course - {Course}\")\n",
        "print(f\"{Assignment}\")\n",
        "print(f\"{Question}\")"
      ]
    },
    {
      "cell_type": "markdown",
      "metadata": {
        "id": "Big7I-WgH5R7"
      },
      "source": [
        "**Q2 Swap Two Numbers**"
      ]
    },
    {
      "cell_type": "code",
      "execution_count": null,
      "metadata": {
        "colab": {
          "base_uri": "https://localhost:8080/"
        },
        "id": "JA0yhv87ICtW",
        "outputId": "c6a1fe92-f79d-49a0-bdcd-e5183afbfb64"
      },
      "outputs": [
        {
          "name": "stdout",
          "output_type": "stream",
          "text": [
            "Originally a = 5, b = 10\n",
            "After swapping, a = 10, b = 5\n"
          ]
        }
      ],
      "source": [
        "a = 5\n",
        "b = 10\n",
        "\n",
        "print(f\"Originally a = {a}, b = {b}\")\n",
        "\n",
        "a, b = b, a\n",
        "\n",
        "print(f\"After swapping, a = {a}, b = {b}\")"
      ]
    },
    {
      "cell_type": "markdown",
      "metadata": {
        "id": "rPfRGnyVI36_"
      },
      "source": [
        "**Q3 Arithmetic Operations**"
      ]
    },
    {
      "cell_type": "code",
      "execution_count": null,
      "metadata": {
        "colab": {
          "base_uri": "https://localhost:8080/"
        },
        "id": "voQGJfRnJFih",
        "outputId": "742bb693-5dee-44a1-cd71-f8924fd4dce6"
      },
      "outputs": [
        {
          "name": "stdout",
          "output_type": "stream",
          "text": [
            "Enter the First Number: 56\n",
            "Enter the Second Number: 5\n",
            "Sum: 61\n",
            "Difference (a-b): 51\n",
            "Product: 280\n",
            "Division (a/b): 11.2\n",
            "Floor Division (a//b): 11\n",
            "Modulus (a%b): 1\n",
            "Exponentiation (a**b): 550731776\n"
          ]
        }
      ],
      "source": [
        "# prompt: arithmetic operations , take input from user\n",
        "\n",
        "a = int(input(\"Enter the First Number: \"))\n",
        "b = int(input(\"Enter the Second Number: \"))\n",
        "\n",
        "print(f\"Sum: {a + b}\")\n",
        "print(f\"Difference (a-b): {a - b}\")\n",
        "print(f\"Product: {a * b}\")\n",
        "print(f\"Division (a/b): {a / b}\")\n",
        "print(f\"Floor Division (a//b): {a // b}\")\n",
        "print(f\"Modulus (a%b): {a % b}\")\n",
        "print(f\"Exponentiation (a**b): {a ** b}\")"
      ]
    },
    {
      "cell_type": "markdown",
      "metadata": {
        "id": "jLye0LE8LmCa"
      },
      "source": [
        "**Q4 Percentage Calculation**"
      ]
    },
    {
      "cell_type": "code",
      "execution_count": null,
      "metadata": {
        "colab": {
          "base_uri": "https://localhost:8080/"
        },
        "id": "j4xJAtgVMGf9",
        "outputId": "9b3f6be9-de26-4a80-e981-e1e83f08ae29"
      },
      "outputs": [
        {
          "name": "stdout",
          "output_type": "stream",
          "text": [
            "Enter the marks of Physics: 78\n",
            "Enter the marks of Chemistry: 89\n",
            "Enter the marks of Maths: 96\n",
            "Enter the marks of English: 92\n",
            "Enter the marks of Computer Science: 90\n",
            "Total Marks: 445\n",
            "Percentage: 89.0%\n"
          ]
        }
      ],
      "source": [
        "Physics = int(input(\"Enter the marks of Physics: \"))\n",
        "Chemistry = int(input(\"Enter the marks of Chemistry: \"))\n",
        "Maths = int(input(\"Enter the marks of Maths: \"))\n",
        "English = int(input(\"Enter the marks of English: \"))\n",
        "Computer_Science = int(input(\"Enter the marks of Computer Science: \"))\n",
        "\n",
        "Total = Physics + Chemistry + Maths + English + Computer_Science\n",
        "\n",
        "Percentage = (Total / 500) * 100\n",
        "\n",
        "print(f\"Total Marks: {Total}\")\n",
        "print(f\"Percentage: {Percentage}%\")"
      ]
    },
    {
      "cell_type": "markdown",
      "metadata": {
        "id": "H-9oqxx7MyNA"
      },
      "source": [
        "**Q5 Compound Assignment Operator**"
      ]
    },
    {
      "cell_type": "code",
      "execution_count": null,
      "metadata": {
        "colab": {
          "base_uri": "https://localhost:8080/"
        },
        "id": "jmU94KMENGZ5",
        "outputId": "81408c21-12a2-4283-df6b-f803c8454521"
      },
      "outputs": [
        {
          "name": "stdout",
          "output_type": "stream",
          "text": [
            "Enter the Value of x: 36\n",
            "x after x += 5: 41\n",
            "x after x -= 3: 38\n",
            "x after x *= 2: 76\n",
            "x after x /= 4: 19.0\n",
            "x after x //= 1: 19.0\n",
            "x after x %= 3: 1.0\n",
            "x after x **= 2: 1.0\n"
          ]
        }
      ],
      "source": [
        "x = int(input(\"Enter the Value of x: \"))\n",
        "\n",
        "x += 5\n",
        "print(f\"x after x += 5: {x}\")\n",
        "\n",
        "x -= 3\n",
        "print(f\"x after x -= 3: {x}\")\n",
        "\n",
        "x *= 2\n",
        "print(f\"x after x *= 2: {x}\")\n",
        "\n",
        "x /= 4\n",
        "print(f\"x after x /= 4: {x}\")\n",
        "\n",
        "x //= 1\n",
        "print(f\"x after x //= 1: {x}\")\n",
        "\n",
        "x %= 3\n",
        "print(f\"x after x %= 3: {x}\")\n",
        "\n",
        "x **= 2\n",
        "print(f\"x after x **= 2: {x}\")"
      ]
    },
    {
      "cell_type": "markdown",
      "metadata": {
        "id": "OASuFitqOCYm"
      },
      "source": [
        "**Q6 Relational Operator**"
      ]
    },
    {
      "cell_type": "code",
      "execution_count": null,
      "metadata": {
        "colab": {
          "base_uri": "https://localhost:8080/"
        },
        "id": "d6IW3HYXOL9Q",
        "outputId": "9618a40c-f83b-4821-d079-1e3cd9e81e82"
      },
      "outputs": [
        {
          "name": "stdout",
          "output_type": "stream",
          "text": [
            "Enter the value of a: 76\n",
            "Enter the value of b: 48\n",
            "a > b is True\n",
            "a < b is False\n",
            "a >= b is True\n",
            "a <= b is False\n",
            "a == b is False\n",
            "a != b is True\n"
          ]
        }
      ],
      "source": [
        "a = int(input(\"Enter the value of a: \"))\n",
        "b = int(input(\"Enter the value of b: \"))\n",
        "\n",
        "print(f\"a > b is {a > b}\")\n",
        "print(f\"a < b is {a < b}\")\n",
        "print(f\"a >= b is {a >= b}\")\n",
        "print(f\"a <= b is {a <= b}\")\n",
        "print(f\"a == b is {a == b}\")\n",
        "print(f\"a != b is {a != b}\")"
      ]
    },
    {
      "cell_type": "markdown",
      "metadata": {
        "id": "7zIWkq0vOdQR"
      },
      "source": [
        "**Q7 Logical Operator**"
      ]
    },
    {
      "cell_type": "code",
      "execution_count": null,
      "metadata": {
        "colab": {
          "base_uri": "https://localhost:8080/"
        },
        "id": "0BAiA0-fOot0",
        "outputId": "feaa9085-b709-4664-faf6-6deee36a7b14"
      },
      "outputs": [
        {
          "name": "stdout",
          "output_type": "stream",
          "text": [
            "p and q is False\n",
            "p or q is True\n",
            "not p is False\n"
          ]
        }
      ],
      "source": [
        "p = True\n",
        "q = False\n",
        "\n",
        "print(f\"p and q is {p and q}\")\n",
        "print(f\"p or q is {p or q}\")\n",
        "print(f\"not p is {not p}\")"
      ]
    },
    {
      "cell_type": "markdown",
      "metadata": {
        "id": "gycj00VhO-42"
      },
      "source": [
        "**Q8 Identity Operator**"
      ]
    },
    {
      "cell_type": "code",
      "execution_count": null,
      "metadata": {
        "colab": {
          "base_uri": "https://localhost:8080/"
        },
        "id": "F-usPpSFPWkN",
        "outputId": "6cc68a22-da7b-4f29-bade-00bebe10d250"
      },
      "outputs": [
        {
          "name": "stdout",
          "output_type": "stream",
          "text": [
            "x is y: False\n",
            "x is z: True\n",
            "x is not y: True\n",
            "x is not z: False\n"
          ]
        }
      ],
      "source": [
        "x = [1, 2, 3]\n",
        "y = [1, 2, 3]\n",
        "z = x\n",
        "\n",
        "print(f\"x is y: {x is y}\")\n",
        "print(f\"x is z: {x is z}\")\n",
        "print(f\"x is not y: {x is not y}\")\n",
        "print(f\"x is not z: {x is not z}\")"
      ]
    },
    {
      "cell_type": "markdown",
      "metadata": {
        "id": "joU030DWPvGk"
      },
      "source": [
        "**Q9 Bitwise Operator**"
      ]
    },
    {
      "cell_type": "code",
      "execution_count": null,
      "metadata": {
        "colab": {
          "base_uri": "https://localhost:8080/"
        },
        "id": "-G3ggPmCP6cs",
        "outputId": "a62948f4-f8ab-4135-c07b-ae89600d9a55"
      },
      "outputs": [
        {
          "name": "stdout",
          "output_type": "stream",
          "text": [
            "Enter the value of a: 45\n",
            "Enter the value of b: 95\n",
            "a & b: 13\n",
            "a | b: 127\n",
            "a ^ b: 114\n",
            "~a: -46\n",
            "a << 2: 180\n",
            "a >> 2: 11\n"
          ]
        }
      ],
      "source": [
        "a = int(input(\"Enter the value of a: \"))\n",
        "b = int(input(\"Enter the value of b: \"))\n",
        "\n",
        "print(f\"a & b: {a & b}\")\n",
        "print(f\"a | b: {a | b}\")\n",
        "print(f\"a ^ b: {a ^ b}\")\n",
        "print(f\"~a: {~a}\")\n",
        "print(f\"a << 2: {a << 2}\")\n",
        "print(f\"a >> 2: {a >> 2}\")"
      ]
    },
    {
      "cell_type": "markdown",
      "metadata": {
        "id": "QJxpqPnRSdjf"
      },
      "source": [
        "**Q10 Variable Types and Typecasting**"
      ]
    },
    {
      "cell_type": "code",
      "execution_count": null,
      "metadata": {
        "colab": {
          "base_uri": "https://localhost:8080/"
        },
        "id": "cI3Lx-FJSqLy",
        "outputId": "a644e7aa-f0f2-4997-f1b1-6e3f14c1002d"
      },
      "outputs": [
        {
          "name": "stdout",
          "output_type": "stream",
          "text": [
            "Age: 30, Type: <class 'int'>\n",
            "Name: Alice, Type: <class 'str'>\n",
            "Height: 1.65, Type: <class 'float'>\n",
            "Is Student: True, Type: <class 'bool'>\n",
            "Age as string: 30, Type: <class 'str'>\n",
            "Height as integer: 1, Type: <class 'int'>\n",
            "Is Student as integer: 1, Type: <class 'int'>\n"
          ]
        }
      ],
      "source": [
        "age = 30  # int\n",
        "name = \"Alice\"  # string\n",
        "height = 1.65  # float\n",
        "is_student = True  # bool\n",
        "\n",
        "print(f\"Age: {age}, Type: {type(age)}\")\n",
        "print(f\"Name: {name}, Type: {type(name)}\")\n",
        "print(f\"Height: {height}, Type: {type(height)}\")\n",
        "print(f\"Is Student: {is_student}, Type: {type(is_student)}\")\n",
        "\n",
        "# Typecasting\n",
        "age_str = str(age)\n",
        "height_int = int(height)\n",
        "is_student_int = int(is_student)\n",
        "\n",
        "print(f\"Age as string: {age_str}, Type: {type(age_str)}\")\n",
        "print(f\"Height as integer: {height_int}, Type: {type(height_int)}\")\n",
        "print(f\"Is Student as integer: {is_student_int}, Type: {type(is_student_int)}\")"
      ]
    },
    {
      "cell_type": "markdown",
      "metadata": {
        "id": "g78KTdccTzBg"
      },
      "source": [
        "## **Assignment 2**"
      ]
    },
    {
      "cell_type": "markdown",
      "metadata": {
        "id": "co98ytuhUBf1"
      },
      "source": [
        "**Q1 Write a program to print number 1 to 10 but stop the loop when number reach 9.**"
      ]
    },
    {
      "cell_type": "code",
      "execution_count": null,
      "metadata": {
        "colab": {
          "base_uri": "https://localhost:8080/"
        },
        "id": "d_dYS9TIU2p8",
        "outputId": "e7cb65ca-015a-4a46-eeb6-f2d2aad3aeb2"
      },
      "outputs": [
        {
          "name": "stdout",
          "output_type": "stream",
          "text": [
            "1\n",
            "2\n",
            "3\n",
            "4\n",
            "5\n",
            "6\n",
            "7\n",
            "8\n",
            "9\n"
          ]
        }
      ],
      "source": [
        "for i in range(1, 11):\n",
        "  print(i)\n",
        "\n",
        "  if i == 9:\n",
        "    break"
      ]
    },
    {
      "cell_type": "markdown",
      "metadata": {
        "id": "ecO-bxZ0VY97"
      },
      "source": [
        "**Q2 Write a program that keep asking the user to enter the number, stop when the user enter a negative user.**"
      ]
    },
    {
      "cell_type": "code",
      "execution_count": null,
      "metadata": {
        "colab": {
          "base_uri": "https://localhost:8080/"
        },
        "id": "nGntnZj3V0Um",
        "outputId": "1125a310-3b58-4c57-973d-b06a524a7065"
      },
      "outputs": [
        {
          "name": "stdout",
          "output_type": "stream",
          "text": [
            "Enter a number: 6\n",
            "Enter a number: 76\n",
            "Enter a number: 98\n",
            "Enter a number: 656\n",
            "Enter a number: -987\n",
            "Negative number entered. Stopping.\n"
          ]
        }
      ],
      "source": [
        "while True:\n",
        "    input_from_user = int(input(\"Enter a number: \"))\n",
        "    if input_from_user < 0:\n",
        "        print(\"Negative number entered. Stopping.\")\n",
        "        break"
      ]
    },
    {
      "cell_type": "markdown",
      "metadata": {
        "id": "Su8uD26JWUy2"
      },
      "source": [
        "**Q3 Write a program to find first even number in a list using using a for loop and break.**"
      ]
    },
    {
      "cell_type": "code",
      "execution_count": null,
      "metadata": {
        "colab": {
          "base_uri": "https://localhost:8080/"
        },
        "id": "FEfy2GyWY3T7",
        "outputId": "e449652a-fc73-4c53-f931-40497e60aa80"
      },
      "outputs": [
        {
          "name": "stdout",
          "output_type": "stream",
          "text": [
            "The first even number in the list is : 4\n"
          ]
        }
      ],
      "source": [
        "my_list = [1, 3, 5, 7, 9, 25, 4, 6, 8, 11]\n",
        "\n",
        "first_even_number = None\n",
        "\n",
        "for number in my_list:\n",
        "  if number % 2 == 0:\n",
        "    first_even_number = number\n",
        "    break\n",
        "\n",
        "if first_even_number is not None:\n",
        "  print(f\"The first even number in the list is : {first_even_number}\")\n",
        "else:\n",
        "  print(\"No even numbers found in the list.\")"
      ]
    },
    {
      "cell_type": "markdown",
      "metadata": {
        "id": "t9veb6NUgUFU"
      },
      "source": [
        "**Q4 Keep adding number onwards until total sum exceeds 25 print last sum and digit.**"
      ]
    },
    {
      "cell_type": "code",
      "execution_count": null,
      "metadata": {
        "colab": {
          "base_uri": "https://localhost:8080/"
        },
        "id": "-90c30CthxHI",
        "outputId": "b4f14378-03ca-4a01-d2bf-783de1a669ea"
      },
      "outputs": [
        {
          "name": "stdout",
          "output_type": "stream",
          "text": [
            "Enter the initial sum: 8\n",
            "Enter the initial digit: 9\n",
            "Last sum: 29\n",
            "Last digit: 11\n"
          ]
        }
      ],
      "source": [
        "total_sum = int(input(\"Enter the initial sum: \"))\n",
        "digit = int(input(\"Enter the initial digit: \"))\n",
        "\n",
        "while total_sum <= 25:\n",
        "  digit += 1\n",
        "  total_sum += digit\n",
        "\n",
        "print(f\"Last sum: {total_sum}\")\n",
        "print(f\"Last digit: {digit}\")"
      ]
    },
    {
      "cell_type": "markdown",
      "metadata": {
        "id": "UpQ-vh7UiN9d"
      },
      "source": [
        "**Q5 Keep asking the user to guess the password until they guess admin123, use while and break.**"
      ]
    },
    {
      "cell_type": "code",
      "execution_count": null,
      "metadata": {
        "colab": {
          "base_uri": "https://localhost:8080/"
        },
        "id": "K_PUv_4XkmFK",
        "outputId": "690a7c54-65ba-4627-a662-453eed7924be"
      },
      "outputs": [
        {
          "name": "stdout",
          "output_type": "stream",
          "text": [
            "Guess the password: rehan789\n",
            "Incorrect password. Try again.\n",
            "Guess the password: mazo493\n",
            "Incorrect password. Try again.\n",
            "Guess the password: admin3211\n",
            "Incorrect password. Try again.\n",
            "Guess the password: admin123\n",
            "Correct password!\n"
          ]
        }
      ],
      "source": [
        "while True:\n",
        "    password_guess = input(\"Guess the password: \")\n",
        "    if password_guess == \"admin123\":\n",
        "        print(\"Correct password!\")\n",
        "        break\n",
        "    else:\n",
        "        print(\"Incorrect password. Try again.\")"
      ]
    },
    {
      "cell_type": "markdown",
      "metadata": {
        "id": "7K_eDU-FlIkI"
      },
      "source": [
        "**Q6 Print multiples of 7 using while loop, stop the value greater than 100.**"
      ]
    },
    {
      "cell_type": "code",
      "execution_count": null,
      "metadata": {
        "colab": {
          "base_uri": "https://localhost:8080/"
        },
        "id": "mRMbB5bLlnG8",
        "outputId": "bc5d895d-a4a5-42bc-cdac-57ccf6279ce9"
      },
      "outputs": [
        {
          "name": "stdout",
          "output_type": "stream",
          "text": [
            "7\n",
            "14\n",
            "21\n",
            "28\n",
            "35\n",
            "42\n",
            "49\n",
            "56\n",
            "63\n",
            "70\n",
            "77\n",
            "84\n",
            "91\n",
            "98\n"
          ]
        }
      ],
      "source": [
        "multiples_of_7 = 7\n",
        "\n",
        "while multiples_of_7 <= 100:\n",
        "  print(multiples_of_7)\n",
        "\n",
        "  multiples_of_7 += 7"
      ]
    },
    {
      "cell_type": "markdown",
      "metadata": {
        "id": "tqVTxFh6mAGG"
      },
      "source": [
        "**Q7 Given a number print each digit until  a zero is found.**"
      ]
    },
    {
      "cell_type": "code",
      "execution_count": null,
      "metadata": {
        "colab": {
          "base_uri": "https://localhost:8080/"
        },
        "id": "FXJ_7-MpoH1H",
        "outputId": "e18d998f-cae2-48da-fa54-b7625329562d"
      },
      "outputs": [
        {
          "name": "stdout",
          "output_type": "stream",
          "text": [
            "Enter a number: 09\n",
            "9\n"
          ]
        }
      ],
      "source": [
        "number = int(input(\"Enter a number: \"))\n",
        "\n",
        "number_str = str(number)\n",
        "\n",
        "for digit_char in number_str:\n",
        "  digit = int(digit_char)\n",
        "  print(digit)\n",
        "  if digit == 0:\n",
        "    break"
      ]
    },
    {
      "cell_type": "markdown",
      "metadata": {
        "id": "d1TYKjejqWC8"
      },
      "source": [
        "## **Assignment 3**"
      ]
    },
    {
      "cell_type": "markdown",
      "metadata": {
        "id": "oxg1QqzJqeRg"
      },
      "source": [
        "**Q1 Take a sentence and reverse the order of its words. Example: \"I love Python\" → \"Python love I\".**"
      ]
    },
    {
      "cell_type": "code",
      "execution_count": null,
      "metadata": {
        "colab": {
          "base_uri": "https://localhost:8080/"
        },
        "id": "H7aXt8lSq081",
        "outputId": "d09842af-def0-4c9e-e6e7-0375e69f6487"
      },
      "outputs": [
        {
          "name": "stdout",
          "output_type": "stream",
          "text": [
            "Enter a sentence: My name is Arsh Raj\n",
            "Reversed sentence: Raj Arsh is name My\n"
          ]
        }
      ],
      "source": [
        "sentence = input(\"Enter a sentence: \")\n",
        "words = sentence.split()\n",
        "reversed_words = words[::-1]\n",
        "reversed_sentence = \" \".join(reversed_words)\n",
        "print(f\"Reversed sentence: {reversed_sentence}\")"
      ]
    },
    {
      "cell_type": "markdown",
      "metadata": {
        "id": "pHl-ApzVrB4C"
      },
      "source": [
        "**Q2 Given a string, count consonants (non-vowel letters, ignoring case). Example: \"Hello World\" →\n",
        "7 (H, l, l, W, r, l, d).**"
      ]
    },
    {
      "cell_type": "code",
      "execution_count": null,
      "metadata": {
        "colab": {
          "base_uri": "https://localhost:8080/"
        },
        "id": "SbP506KSrLGo",
        "outputId": "7ca98eef-2bb2-4a03-dc9b-c7ba784aaf78"
      },
      "outputs": [
        {
          "name": "stdout",
          "output_type": "stream",
          "text": [
            "Enter a string: pneumonoultramicroscopicsilicovolcanoconiosis\n",
            "Number of consonants: 25\n"
          ]
        }
      ],
      "source": [
        "text = input(\"Enter a string: \")\n",
        "\n",
        "vowels = \"aeiou\"\n",
        "consonant_count = 0\n",
        "\n",
        "for char in text.lower():\n",
        "    if char.isalpha() and char not in vowels:\n",
        "        consonant_count += 1\n",
        "\n",
        "print(\"Number of consonants:\", consonant_count)"
      ]
    },
    {
      "cell_type": "markdown",
      "metadata": {
        "id": "VrSpPNyUspaR"
      },
      "source": [
        "**Q3 Check if two strings are anagrams (same characters, same frequency, ignoring case).\n",
        "Example: \"Listen\", \"Silent\" → \"Anagram\", \"Hello\", \"World\" → \"Not Anagram\".**"
      ]
    },
    {
      "cell_type": "code",
      "execution_count": null,
      "metadata": {
        "colab": {
          "base_uri": "https://localhost:8080/"
        },
        "id": "E6ieyyNUcDUS",
        "outputId": "dc6c115d-c554-43ba-cc7e-d0d8b8c8a61a"
      },
      "outputs": [
        {
          "name": "stdout",
          "output_type": "stream",
          "text": [
            "Enter first string: throw\n",
            "Enter second string: worth\n",
            "Anagram\n"
          ]
        }
      ],
      "source": [
        "def is_anagram(s1, s2):\n",
        "\n",
        "    s1 = s1.replace(\" \", \"\").lower()\n",
        "    s2 = s2.replace(\" \", \"\").lower()\n",
        "    return sorted(s1) == sorted(s2)\n",
        "\n",
        "s1 = input(\"Enter first string: \")\n",
        "s2 = input(\"Enter second string: \")\n",
        "\n",
        "if is_anagram(s1, s2):\n",
        "    print(\"Anagram\")\n",
        "else:\n",
        "    print(\"Not Anagram\")"
      ]
    },
    {
      "cell_type": "markdown",
      "metadata": {
        "id": "ohgpdxjudUkW"
      },
      "source": [
        "**Q4 Find the first character in a string that appears only once (case-sensitive). Example: \"swiss\" → \"w\", \"programming\" → \"r\".**"
      ]
    },
    {
      "cell_type": "code",
      "execution_count": null,
      "metadata": {
        "colab": {
          "base_uri": "https://localhost:8080/"
        },
        "id": "sA7IaEfLdaPx",
        "outputId": "e47a908c-ea36-4f12-e810-c8d84f0ce05a"
      },
      "outputs": [
        {
          "name": "stdout",
          "output_type": "stream",
          "text": [
            "Enter a string: degradable\n",
            "First unique character: g\n"
          ]
        }
      ],
      "source": [
        "def first_unique_char(s):\n",
        "\n",
        "    char_count = {}\n",
        "    for char in s:\n",
        "        if char in char_count:\n",
        "            char_count[char] += 1\n",
        "        else:\n",
        "            char_count[char] = 1\n",
        "\n",
        "    for char in s:\n",
        "        if char_count[char] == 1:\n",
        "            return char\n",
        "\n",
        "    return None\n",
        "\n",
        "s = input(\"Enter a string: \")\n",
        "result = first_unique_char(s)\n",
        "print(f\"First unique character: {result}\")"
      ]
    },
    {
      "cell_type": "markdown",
      "metadata": {
        "id": "8nekwhkzeXp5"
      },
      "source": [
        "**Q5 Compress a string by replacing repeated characters with the character and count. Example: \"aaabbc\" → \"a3b2c1\". If compressed string isn’t shorter, return original.**"
      ]
    },
    {
      "cell_type": "code",
      "execution_count": null,
      "metadata": {
        "colab": {
          "base_uri": "https://localhost:8080/"
        },
        "id": "rtE1faejei1y",
        "outputId": "a79b6e25-996a-4325-a0bd-83b902164659"
      },
      "outputs": [
        {
          "name": "stdout",
          "output_type": "stream",
          "text": [
            "Enter a string: aaaaaahhhhhggggddddaallldd\n",
            "Result: a6h5g4d4a2l3d2\n"
          ]
        }
      ],
      "source": [
        "def compress_string(s):\n",
        "    if not s:\n",
        "        return s\n",
        "\n",
        "    compressed = []\n",
        "    current_char = s[0]\n",
        "    count = 1\n",
        "\n",
        "    for char in s[1:]:\n",
        "        if char == current_char:\n",
        "            count += 1\n",
        "        else:\n",
        "            compressed.append(f\"{current_char}{count}\")\n",
        "            current_char = char\n",
        "            count = 1\n",
        "    compressed.append(f\"{current_char}{count}\")\n",
        "\n",
        "    compressed_str = \"\".join(compressed)\n",
        "    return compressed_str if len(compressed_str) < len(s) else s\n",
        "\n",
        "s = input(\"Enter a string: \")\n",
        "result = compress_string(s)\n",
        "print(\"Result:\", result)"
      ]
    },
    {
      "cell_type": "markdown",
      "metadata": {
        "id": "CYY6-pzDfOnL"
      },
      "source": [
        "**Q6 Find the longest substring in a string that is a palindrome (case-sensitive). Example: \"babad\" → \"bab\" (or \"aba\"), \"cbbd\" → \"bb\". If multiple exist, return the first.**"
      ]
    },
    {
      "cell_type": "code",
      "execution_count": null,
      "metadata": {
        "colab": {
          "base_uri": "https://localhost:8080/"
        },
        "id": "klUszezXfaaO",
        "outputId": "f69a6cc1-7f81-4a13-cfe6-ffdbd72d0b78"
      },
      "outputs": [
        {
          "name": "stdout",
          "output_type": "stream",
          "text": [
            "Enter a string: Malayalam\n",
            "Longest palindromic substring: alayala\n"
          ]
        }
      ],
      "source": [
        "def longest_palindrome(s):\n",
        "    return max([s[i:j] for i in range(len(s)) for j in range(i+1,len(s)+1) if s[i:j]==s[i:j][::-1]], key=len, default=\"\")\n",
        "\n",
        "s = input(\"Enter a string: \")\n",
        "print(\"Longest palindromic substring:\", longest_palindrome(s))"
      ]
    },
    {
      "cell_type": "markdown",
      "metadata": {
        "id": "dG3iaevmguJz"
      },
      "source": [
        "**Q7 Given a string containing only '(', ')', '{', '}', '[', ']', check if the sequence is valid (properly nested\n",
        "and closed). Example: \"({[]})\" → \"Valid\", \"(]\" → \"Invalid\"**"
      ]
    },
    {
      "cell_type": "code",
      "execution_count": null,
      "metadata": {
        "colab": {
          "base_uri": "https://localhost:8080/"
        },
        "id": "BpBjhnbDg5gZ",
        "outputId": "1f280bae-6f10-4581-e4c7-fa7ecc3152b9"
      },
      "outputs": [
        {
          "name": "stdout",
          "output_type": "stream",
          "text": [
            "Enter a string: ({[]})\n",
            "Valid\n"
          ]
        }
      ],
      "source": [
        "def is_valid(s):\n",
        "    stack = []\n",
        "    mapping = {')': '(', '}': '{', ']': '['}\n",
        "    for char in s:\n",
        "        if char in mapping:\n",
        "            if stack and stack[-1] == mapping[char]:\n",
        "                stack.pop()\n",
        "            else:\n",
        "                return False\n",
        "        else:\n",
        "            stack.append(char)\n",
        "    return not stack\n",
        "\n",
        "s = input(\"Enter a string: \")\n",
        "print(\"Valid\" if is_valid(s) else \"Invalid\")"
      ]
    },
    {
      "cell_type": "markdown",
      "metadata": {
        "id": "4-5vgOKBhXV_"
      },
      "source": [
        "**Q8 Given a start word, end word, and a list of valid words, find the minimum number of steps to\n",
        "transform the start word to the end word by changing one letter at a time, where each\n",
        "intermediate word must be in the list. All words are same length, lowercase. Example:\n",
        "start=\"hit\", end=\"cog\", wordList=[\"hot\",\"dot\",\"dog\",\"lot\",\"log\",\"cog\"] → 5 (hit → hot → dot → dog →\n",
        "cog). Return 0 if impossible.**"
      ]
    },
    {
      "cell_type": "code",
      "execution_count": null,
      "metadata": {
        "colab": {
          "base_uri": "https://localhost:8080/"
        },
        "id": "W5QVlfpeiBSx",
        "outputId": "11ecb4a7-8d9b-4f2f-ccb4-dd6698176012"
      },
      "outputs": [
        {
          "name": "stdout",
          "output_type": "stream",
          "text": [
            "Minimum steps: 5\n"
          ]
        }
      ],
      "source": [
        "from collections import deque\n",
        "\n",
        "def ladderLength(start, end, wordList):\n",
        "    word_set = set(wordList)\n",
        "    if end not in word_set:\n",
        "        return 0\n",
        "    queue = deque([(start, 1)])\n",
        "    visited = set([start])\n",
        "    while queue:\n",
        "        current, steps = queue.popleft()\n",
        "        if current == end:\n",
        "            return steps\n",
        "        for i in range(len(current)):\n",
        "            for c in 'abcdefghijklmnopqrstuvwxyz':\n",
        "                next_word = current[:i] + c + current[i+1:]\n",
        "                if next_word in word_set and next_word not in visited:\n",
        "                    visited.add(next_word)\n",
        "                    queue.append((next_word, steps + 1))\n",
        "    return 0\n",
        "\n",
        "start = \"hit\"\n",
        "end = \"cog\"\n",
        "wordList = [\"hot\",\"dot\",\"dog\",\"lot\",\"log\",\"cog\"]\n",
        "print(\"Minimum steps:\", ladderLength(start, end, wordList))"
      ]
    },
    {
      "cell_type": "markdown",
      "metadata": {
        "id": "QN1UrEbsGBrq"
      },
      "source": [
        "## **Assignment 4**"
      ]
    },
    {
      "cell_type": "markdown",
      "metadata": {
        "id": "NPhSZD35pI_I"
      },
      "source": [
        "**Q1 - Create a dictionary of 5 students with their names as keys and marks as values. Print all the keys and values.**"
      ]
    },
    {
      "cell_type": "code",
      "execution_count": null,
      "metadata": {
        "id": "Q6tOt5mYnYPz"
      },
      "outputs": [],
      "source": [
        "marks_records = {\n",
        "    'Radha' : 76,\n",
        "    'Yasmin' :  89,\n",
        "    'Sejal' : 95,\n",
        "    'Prateek' : 67,\n",
        "    'Rahul' : 53\n",
        "}"
      ]
    },
    {
      "cell_type": "code",
      "execution_count": null,
      "metadata": {
        "colab": {
          "base_uri": "https://localhost:8080/"
        },
        "id": "iRN1cU6hoDTZ",
        "outputId": "f1e0b1d0-cbc2-4255-a0d3-ed2801fc1ca2"
      },
      "outputs": [
        {
          "name": "stdout",
          "output_type": "stream",
          "text": [
            "{'Radha': 76, 'Yasmin': 89, 'Sejal': 95, 'Prateek': 67, 'Rahul': 53}\n"
          ]
        }
      ],
      "source": [
        "print(marks_records)"
      ]
    },
    {
      "cell_type": "markdown",
      "metadata": {
        "id": "AEygbRuHo95y"
      },
      "source": [
        "**Q2 Write a program to count the frequency of each character in a given string using a dictionary.**"
      ]
    },
    {
      "cell_type": "code",
      "execution_count": null,
      "metadata": {
        "colab": {
          "base_uri": "https://localhost:8080/"
        },
        "id": "T9dZo0AMoqnZ",
        "outputId": "c37e6a76-961b-4e01-8632-e391f47005b2"
      },
      "outputs": [
        {
          "name": "stdout",
          "output_type": "stream",
          "text": [
            "{'p': 2, 'n': 4, 'e': 1, 'u': 2, 'm': 2, 'o': 9, 'l': 3, 't': 1, 'r': 2, 'a': 2, 'i': 6, 'c': 6, 's': 4, 'v': 1}\n"
          ]
        }
      ],
      "source": [
        "base_str = \"pneumonoultramicroscopicsilicovolcanoconiosis\"\n",
        "frequency = {}\n",
        "\n",
        "for char in base_str :\n",
        "    if char in frequency:\n",
        "        frequency[char] += 1\n",
        "    else:\n",
        "        frequency[char] = 1\n",
        "\n",
        "print(frequency)\n"
      ]
    },
    {
      "cell_type": "markdown",
      "metadata": {
        "id": "ToMpwMpwukbz"
      },
      "source": [
        "**Q3 Create a dictionary with names as keys and ages as values. Print the name(s) of the oldest\n",
        "person(s).**"
      ]
    },
    {
      "cell_type": "code",
      "execution_count": null,
      "metadata": {
        "id": "FcAj8tfUurJD"
      },
      "outputs": [],
      "source": [
        "person_ages = {\n",
        "    'Gauri': 24,\n",
        "    'Meeta': 32,\n",
        "    'Surya': 52,\n",
        "    'Deepesh': 19,\n",
        "    'Falguni': 65,\n",
        "}"
      ]
    },
    {
      "cell_type": "code",
      "execution_count": null,
      "metadata": {
        "colab": {
          "base_uri": "https://localhost:8080/"
        },
        "id": "8PUQdb8Dv7qc",
        "outputId": "49551828-b64a-44f6-dc59-535b49581c2e"
      },
      "outputs": [
        {
          "name": "stdout",
          "output_type": "stream",
          "text": [
            "['Falguni']\n"
          ]
        }
      ],
      "source": [
        "max_age = max(person_ages.values())\n",
        "oldest = [name for name, age in person_ages.items() if age == max_age]\n",
        "print(oldest)"
      ]
    },
    {
      "cell_type": "markdown",
      "metadata": {
        "id": "FiqolkU0xrHZ"
      },
      "source": [
        "**Q4 Merge two dictionaries and print the merged dictionary.**"
      ]
    },
    {
      "cell_type": "code",
      "execution_count": null,
      "metadata": {
        "id": "nj5DEH0AxL1j"
      },
      "outputs": [],
      "source": [
        "dict1 = {\n",
        "    'team1': 'PBKS',\n",
        "    'team2': 'RCB',\n",
        "    'team3': 'MI',\n",
        "    'team4': 'GT',\n",
        "    'team5': 'LSG',\n",
        "}"
      ]
    },
    {
      "cell_type": "code",
      "execution_count": null,
      "metadata": {
        "id": "xTZy9oClyQVT"
      },
      "outputs": [],
      "source": [
        "dict2 = {\n",
        "    'team6': 'DC',\n",
        "    'team7': 'SRH',\n",
        "    'team8': 'KKR',\n",
        "    'team9': 'RR',\n",
        "    'team10': 'CSK',\n",
        "}"
      ]
    },
    {
      "cell_type": "code",
      "execution_count": null,
      "metadata": {
        "colab": {
          "base_uri": "https://localhost:8080/"
        },
        "id": "29hplXLMym1B",
        "outputId": "4a8c9909-e618-48a9-a0d4-af191ff4fd69"
      },
      "outputs": [
        {
          "name": "stdout",
          "output_type": "stream",
          "text": [
            "{'team1': 'PBKS', 'team2': 'RCB', 'team3': 'MI', 'team4': 'GT', 'team5': 'LSG', 'team6': 'DC', 'team7': 'SRH', 'team8': 'KKR', 'team9': 'RR', 'team10': 'CSK'}\n"
          ]
        }
      ],
      "source": [
        "dict3 = dict1 | dict2\n",
        "print(dict3)"
      ]
    },
    {
      "cell_type": "code",
      "execution_count": null,
      "metadata": {
        "colab": {
          "base_uri": "https://localhost:8080/"
        },
        "id": "AcBIdiU0yyey",
        "outputId": "73bedc8d-2d57-4918-c905-099e96aa2ba5"
      },
      "outputs": [
        {
          "data": {
            "text/plain": [
              "{'team1': 'PBKS',\n",
              " 'team2': 'RCB',\n",
              " 'team3': 'MI',\n",
              " 'team4': 'GT',\n",
              " 'team5': 'LSG',\n",
              " 'team6': 'DC',\n",
              " 'team7': 'SRH',\n",
              " 'team8': 'KKR',\n",
              " 'team9': 'RR',\n",
              " 'team10': 'CSK'}"
            ]
          },
          "execution_count": 50,
          "metadata": {},
          "output_type": "execute_result"
        }
      ],
      "source": [
        "dict3"
      ]
    },
    {
      "cell_type": "markdown",
      "metadata": {
        "id": "4OMj5WzILEV0"
      },
      "source": [
        "**Q5 Create a dictionary where the keys are numbers between 1 and 10, and the values are their squares.**"
      ]
    },
    {
      "cell_type": "code",
      "execution_count": null,
      "metadata": {
        "colab": {
          "base_uri": "https://localhost:8080/"
        },
        "id": "8UP6S98YKtw0",
        "outputId": "44e7e425-5453-456e-9d58-6a58e4551e8a"
      },
      "outputs": [
        {
          "name": "stdout",
          "output_type": "stream",
          "text": [
            "{1: 1, 2: 4, 3: 9, 4: 16, 5: 25, 6: 36, 7: 49, 8: 64, 9: 81, 10: 100}\n"
          ]
        }
      ],
      "source": [
        "squares = {x: x**2 for x in range(1, 11)}\n",
        "print(squares)"
      ]
    },
    {
      "cell_type": "markdown",
      "metadata": {
        "id": "LL0wlrFVMDO0"
      },
      "source": [
        "**Q6 Write a program that inverts a dictionary (i.e., swaps keys and values). Assume all values are unique.**"
      ]
    },
    {
      "cell_type": "code",
      "execution_count": null,
      "metadata": {
        "colab": {
          "base_uri": "https://localhost:8080/"
        },
        "id": "PlJcGGWnL7iY",
        "outputId": "ccdac654-3fb9-4047-ed9b-df1071945e43"
      },
      "outputs": [
        {
          "name": "stdout",
          "output_type": "stream",
          "text": [
            "Original Dictionary :  {'user1': 'Anushka', 'user2': 'Sanskar', 'user3': 'Ritvik', 'user4': 'Ridhi'}\n",
            "Inverted Dictionary :  {'Anushka': 'user1', 'Sanskar': 'user2', 'Ritvik': 'user3', 'Ridhi': 'user4'}\n"
          ]
        }
      ],
      "source": [
        "original_dictionary = {\n",
        "    'user1': 'Anushka',\n",
        "    'user2': 'Sanskar',\n",
        "    'user3': 'Ritvik',\n",
        "    'user4': 'Ridhi'\n",
        "}\n",
        "\n",
        "inverted_dictionary = {value: key for key, value in original_dictionary.items()}\n",
        "\n",
        "print('Original Dictionary : ', original_dictionary)\n",
        "print('Inverted Dictionary : ', inverted_dictionary)"
      ]
    },
    {
      "cell_type": "markdown",
      "metadata": {
        "id": "GyExIfcdOMbA"
      },
      "source": [
        "**Q7 Given a nested dictionary of students and their subject-wise marks, calculate and print the average marks for each student.**"
      ]
    },
    {
      "cell_type": "code",
      "execution_count": null,
      "metadata": {
        "colab": {
          "base_uri": "https://localhost:8080/"
        },
        "id": "Wit2uDakNB9P",
        "outputId": "906015e0-8087-4f56-a6bd-94941bc1e741"
      },
      "outputs": [
        {
          "name": "stdout",
          "output_type": "stream",
          "text": [
            "Average marks for Aryan: 84.33\n",
            "Average marks for David: 94.67\n",
            "Average marks for Rosy: 76.00\n"
          ]
        }
      ],
      "source": [
        "students = {\n",
        "    'Aryan': {'Math': 90, 'Physics': 75, 'Chemistry': 88},\n",
        "    'David': {'Math': 98, 'Physics': 92, 'Chemistry': 94},\n",
        "    'Rosy': {'Math': 68, 'Physics': 78, 'Chemistry': 82}\n",
        "}\n",
        "\n",
        "for student, marks in students.items():\n",
        "    total_marks = sum(marks.values())\n",
        "    average_marks = total_marks / len(marks)\n",
        "    print(f\"Average marks for {student}: {average_marks:.2f}\")"
      ]
    },
    {
      "cell_type": "markdown",
      "metadata": {
        "id": "ldbAV6b5ToPb"
      },
      "source": [
        "**Q8 Write a program to group words by their length from a list using a dictionary.**"
      ]
    },
    {
      "cell_type": "code",
      "execution_count": null,
      "metadata": {
        "colab": {
          "base_uri": "https://localhost:8080/"
        },
        "id": "P-3RDqUFSyK7",
        "outputId": "25da235d-edad-447b-ca76-a97ed2143c79"
      },
      "outputs": [
        {
          "name": "stdout",
          "output_type": "stream",
          "text": [
            "{5: ['apple', 'tiger'], 6: ['orange', 'master', 'impact'], 3: ['dog']}\n"
          ]
        }
      ],
      "source": [
        "words = [\"apple\", \"orange\", \"master\", \"dog\", \"tiger\", \"impact\"]\n",
        "\n",
        "grouped_words = {}\n",
        "\n",
        "for word in words:\n",
        "    word_length = len(word)\n",
        "    if word_length in grouped_words:\n",
        "        grouped_words[word_length].append(word)\n",
        "    else:\n",
        "        grouped_words[word_length] = [word]\n",
        "\n",
        "print(grouped_words)"
      ]
    },
    {
      "cell_type": "markdown",
      "metadata": {
        "id": "8ZBMZ9-bVIys"
      },
      "source": [
        "**Q9 Write a program to group words by their length from a list using a dictionary.**"
      ]
    },
    {
      "cell_type": "code",
      "execution_count": null,
      "metadata": {
        "colab": {
          "base_uri": "https://localhost:8080/"
        },
        "id": "gl_TCWajVRoF",
        "outputId": "b5a638e7-c85a-4956-a0fc-a0c3f27ff52e"
      },
      "outputs": [
        {
          "name": "stdout",
          "output_type": "stream",
          "text": [
            "{5: ['apple', 'tiger'], 6: ['orange', 'master', 'impact'], 3: ['dog']}\n"
          ]
        }
      ],
      "source": [
        "words = [\"apple\", \"orange\", \"master\", \"dog\", \"tiger\", \"impact\"]\n",
        "\n",
        "grouped_words = {}\n",
        "\n",
        "for word in words:\n",
        "    word_length = len(word)\n",
        "    if word_length in grouped_words:\n",
        "        grouped_words[word_length].append(word)\n",
        "    else:\n",
        "        grouped_words[word_length] = [word]\n",
        "\n",
        "print(grouped_words)"
      ]
    },
    {
      "cell_type": "markdown",
      "metadata": {
        "id": "90MzOxpfU6eS"
      },
      "source": [
        "**Q10 Create a program that takes a list of tuples (name, score) and builds a dictionary where each name is a key, and the value is a list of all their scores. Then calculate and print each person's average score.**"
      ]
    },
    {
      "cell_type": "code",
      "execution_count": null,
      "metadata": {
        "colab": {
          "base_uri": "https://localhost:8080/"
        },
        "id": "yYxSCjXRV5_5",
        "outputId": "e4482b98-b5ac-49ec-ddb2-1e6bd45d16f7"
      },
      "outputs": [
        {
          "output_type": "stream",
          "name": "stdout",
          "text": [
            "Scores dictionary: {'Andrew': [85, 90], 'Maanvi': [92, 88], 'Veer': [78, 96]}\n",
            "Andrew's average score: 87.50\n",
            "Maanvi's average score: 90.00\n",
            "Veer's average score: 87.00\n"
          ]
        }
      ],
      "source": [
        "scores_list = [('Andrew', 85),\n",
        "               ('Maanvi', 92),\n",
        "               ('Andrew', 90),\n",
        "               ('Veer', 78),\n",
        "               ('Maanvi', 88),\n",
        "               ('Veer', 96)]\n",
        "\n",
        "score_dict = {}\n",
        "\n",
        "for name, score in scores_list:\n",
        "    if name in score_dict:\n",
        "        score_dict[name].append(score)\n",
        "    else:\n",
        "        score_dict[name] = [score]\n",
        "\n",
        "print(\"Scores dictionary:\", score_dict)\n",
        "\n",
        "for name, scores in score_dict.items():\n",
        "    average_score = sum(scores) / len(scores)\n",
        "    print(f\"{name}'s average score: {average_score:.2f}\")"
      ]
    },
    {
      "cell_type": "markdown",
      "source": [
        "## **Assignmnet 5**"
      ],
      "metadata": {
        "id": "O0CYwL84m1PY"
      }
    },
    {
      "cell_type": "markdown",
      "source": [
        "**Q Write a program to make a pyramid.**"
      ],
      "metadata": {
        "id": "bsVOaqzQm8qq"
      }
    },
    {
      "cell_type": "code",
      "source": [
        "def pyramid(rows):\n",
        "    for i in range(1, rows + 1):\n",
        "        print(' ' * (rows - i) + '*' * (2 * i - 1))\n",
        "\n",
        "pyramid(5)"
      ],
      "metadata": {
        "colab": {
          "base_uri": "https://localhost:8080/"
        },
        "id": "R1nuZ3LsnIZv",
        "outputId": "91f295e5-85ef-4b1f-d71c-01a33171b8a2"
      },
      "execution_count": null,
      "outputs": [
        {
          "output_type": "stream",
          "name": "stdout",
          "text": [
            "    *\n",
            "   ***\n",
            "  *****\n",
            " *******\n",
            "*********\n"
          ]
        }
      ]
    },
    {
      "cell_type": "markdown",
      "source": [
        "**Q2 Create a simple menu-driven program using while loop.**"
      ],
      "metadata": {
        "id": "Mn6p2PkRp0IC"
      }
    },
    {
      "cell_type": "code",
      "source": [
        "chores = []\n",
        "\n",
        "while True:\n",
        "    print(\"\\nHouse Chores Menu\")\n",
        "    print(\"1. View chores\")\n",
        "    print(\"2. Add a chore\")\n",
        "    print(\"3. Exit\")\n",
        "    choice = input(\"Enter your choice (1-3): \")\n",
        "\n",
        "    if choice == \"1\":\n",
        "        print(\"\\nChores:\")\n",
        "        for chore in chores:\n",
        "            print(\"- \" + chore)\n",
        "    elif choice == \"2\":\n",
        "        chore = input(\"Enter a new chore: \")\n",
        "        chores.append(chore)\n",
        "        print(\"Chore added!\")\n",
        "    elif choice == \"3\":\n",
        "        print(\"Goodbye!\")\n",
        "        break\n",
        "    else:\n",
        "        print(\"Invalid choice. Try again.\")"
      ],
      "metadata": {
        "id": "_agUsXt9qAIq",
        "colab": {
          "base_uri": "https://localhost:8080/"
        },
        "outputId": "92fa4b7f-5b26-4136-c041-c8fdba892a0d"
      },
      "execution_count": null,
      "outputs": [
        {
          "output_type": "stream",
          "name": "stdout",
          "text": [
            "\n",
            "House Chores Menu\n",
            "1. View chores\n",
            "2. Add a chore\n",
            "3. Exit\n",
            "Enter your choice (1-3): 1\n",
            "\n",
            "Chores:\n",
            "\n",
            "House Chores Menu\n",
            "1. View chores\n",
            "2. Add a chore\n",
            "3. Exit\n",
            "Enter your choice (1-3): 2\n",
            "Enter a new chore: Cleaning Dishes\n",
            "Chore added!\n",
            "\n",
            "House Chores Menu\n",
            "1. View chores\n",
            "2. Add a chore\n",
            "3. Exit\n",
            "Enter your choice (1-3): 1\n",
            "\n",
            "Chores:\n",
            "- Cleaning Dishes\n",
            "\n",
            "House Chores Menu\n",
            "1. View chores\n",
            "2. Add a chore\n",
            "3. Exit\n",
            "Enter your choice (1-3): 3\n",
            "Goodbye!\n"
          ]
        }
      ]
    },
    {
      "cell_type": "markdown",
      "source": [
        "**Q3 Create a pattern like a pyramid but right-angled.**"
      ],
      "metadata": {
        "id": "z_oCDG6bt6aY"
      }
    },
    {
      "cell_type": "code",
      "source": [
        "rows = int(input(\"Enter number of rows: \"))\n",
        "for i in range(rows):\n",
        "    print(\"* \" * (i + 1))"
      ],
      "metadata": {
        "colab": {
          "base_uri": "https://localhost:8080/"
        },
        "id": "nxqM9Y5nub2i",
        "outputId": "7db7f037-56b6-488c-a462-05eee74d7c8c"
      },
      "execution_count": null,
      "outputs": [
        {
          "output_type": "stream",
          "name": "stdout",
          "text": [
            "Enter number of rows: 10\n",
            "* \n",
            "* * \n",
            "* * * \n",
            "* * * * \n",
            "* * * * * \n",
            "* * * * * * \n",
            "* * * * * * * \n",
            "* * * * * * * * \n",
            "* * * * * * * * * \n",
            "* * * * * * * * * * \n"
          ]
        }
      ]
    },
    {
      "cell_type": "markdown",
      "source": [
        "**Q4 Draw a sqare pattern like star.**"
      ],
      "metadata": {
        "id": "QXAdkBi1ula6"
      }
    },
    {
      "cell_type": "code",
      "source": [
        "n = int(input(\"Enter the number of rows: \"))\n",
        "for i in range(n):\n",
        "    print(\"* \" * n)"
      ],
      "metadata": {
        "colab": {
          "base_uri": "https://localhost:8080/"
        },
        "id": "j4rngqQ4ut_-",
        "outputId": "9eab5db7-99d6-4d63-d0d9-c3ab897d6fdc"
      },
      "execution_count": null,
      "outputs": [
        {
          "output_type": "stream",
          "name": "stdout",
          "text": [
            "Enter the number of rows: 10\n",
            "* * * * * * * * * * \n",
            "* * * * * * * * * * \n",
            "* * * * * * * * * * \n",
            "* * * * * * * * * * \n",
            "* * * * * * * * * * \n",
            "* * * * * * * * * * \n",
            "* * * * * * * * * * \n",
            "* * * * * * * * * * \n",
            "* * * * * * * * * * \n",
            "* * * * * * * * * * \n"
          ]
        }
      ]
    },
    {
      "cell_type": "markdown",
      "source": [
        "**Q5 Draw a circular pattern like start.**"
      ],
      "metadata": {
        "id": "n5SrZjagvIyw"
      }
    },
    {
      "cell_type": "code",
      "source": [
        "radius = 8\n",
        "for y in range(-radius, radius + 1):\n",
        "    for x in range(-radius, radius + 1):\n",
        "        if (x**2 + y**2) <= radius**2 + radius // 2:\n",
        "            print(\"*\", end=\" \")\n",
        "        else:\n",
        "            print(\" \", end=\" \")\n",
        "    print()"
      ],
      "metadata": {
        "colab": {
          "base_uri": "https://localhost:8080/"
        },
        "id": "6p_skBUcwDfh",
        "outputId": "ca7a8d6f-b4ff-4969-b96d-f92276fe4e9e"
      },
      "execution_count": null,
      "outputs": [
        {
          "output_type": "stream",
          "name": "stdout",
          "text": [
            "            * * * * *             \n",
            "        * * * * * * * * *         \n",
            "      * * * * * * * * * * *       \n",
            "    * * * * * * * * * * * * *     \n",
            "  * * * * * * * * * * * * * * *   \n",
            "  * * * * * * * * * * * * * * *   \n",
            "* * * * * * * * * * * * * * * * * \n",
            "* * * * * * * * * * * * * * * * * \n",
            "* * * * * * * * * * * * * * * * * \n",
            "* * * * * * * * * * * * * * * * * \n",
            "* * * * * * * * * * * * * * * * * \n",
            "  * * * * * * * * * * * * * * *   \n",
            "  * * * * * * * * * * * * * * *   \n",
            "    * * * * * * * * * * * * *     \n",
            "      * * * * * * * * * * *       \n",
            "        * * * * * * * * *         \n",
            "            * * * * *             \n"
          ]
        }
      ]
    },
    {
      "cell_type": "markdown",
      "source": [
        "**Q6 Draw a rectangular pattern like star.**"
      ],
      "metadata": {
        "id": "almNvGKDwfu6"
      }
    },
    {
      "cell_type": "code",
      "source": [
        "rows = int(input(\"Enter number of rows : \"))\n",
        "columns = int(input(\"Enter number of columns : \"))\n",
        "\n",
        "for i in range(rows):\n",
        "    for j in range(columns):\n",
        "        print(\"*\", end=\" \")\n",
        "    print()"
      ],
      "metadata": {
        "colab": {
          "base_uri": "https://localhost:8080/"
        },
        "id": "-8bROAdbwoo4",
        "outputId": "a999810e-1de9-4ad8-a934-66ab5dd20bfd"
      },
      "execution_count": null,
      "outputs": [
        {
          "output_type": "stream",
          "name": "stdout",
          "text": [
            "Enter number of rows : 10\n",
            "Enter number of columns : 6\n",
            "* * * * * * \n",
            "* * * * * * \n",
            "* * * * * * \n",
            "* * * * * * \n",
            "* * * * * * \n",
            "* * * * * * \n",
            "* * * * * * \n",
            "* * * * * * \n",
            "* * * * * * \n",
            "* * * * * * \n"
          ]
        }
      ]
    },
    {
      "cell_type": "markdown",
      "source": [
        "**Q7 Create a list ofeven numbers belonging to 'S' list.**"
      ],
      "metadata": {
        "id": "Tnb42xkpw8jT"
      }
    },
    {
      "cell_type": "code",
      "source": [
        "S = [1, 2, 3, 4, 5, 6, 7, 8, 9, 10]\n",
        "\n",
        "even_numbers = [x for x in S if x % 2 == 0]\n",
        "print(even_numbers)"
      ],
      "metadata": {
        "colab": {
          "base_uri": "https://localhost:8080/"
        },
        "id": "SdCL2ckyzEsh",
        "outputId": "f7266879-2471-4d78-b39c-3f3ce8867b7f"
      },
      "execution_count": null,
      "outputs": [
        {
          "output_type": "stream",
          "name": "stdout",
          "text": [
            "[2, 4, 6, 8, 10]\n"
          ]
        }
      ]
    },
    {
      "cell_type": "markdown",
      "metadata": {
        "id": "ZfNoKDRBy083"
      },
      "source": [
        "\n",
        "## **Assignment 6**"
      ]
    },
    {
      "cell_type": "markdown",
      "metadata": {
        "id": "eWURxREO0PZp"
      },
      "source": [
        "**Q1 Write a Python program to create a tuple with different data types and print its type.**"
      ]
    },
    {
      "cell_type": "code",
      "execution_count": null,
      "metadata": {
        "colab": {
          "base_uri": "https://localhost:8080/"
        },
        "id": "JtsSDQHp0Uxv",
        "outputId": "616e5a54-9e9e-4434-d80a-25f28a2e61e6"
      },
      "outputs": [
        {
          "output_type": "stream",
          "name": "stdout",
          "text": [
            "Tuple : (42, 'Hello', 3.14, True, [1, 2, 3])\n",
            "Type : <class 'tuple'>\n"
          ]
        }
      ],
      "source": [
        "tuple = (42, \"Hello\", 3.14, True, [1, 2, 3])\n",
        "\n",
        "print(\"Tuple :\", tuple)\n",
        "\n",
        "print(\"Type :\", type(tuple))"
      ]
    },
    {
      "cell_type": "markdown",
      "source": [
        "**Q2 Given a tuple t = (10, 20, 30, 40, 50), write a program to access the second last element.**"
      ],
      "metadata": {
        "id": "OgWR2xip9Ixv"
      }
    },
    {
      "cell_type": "code",
      "execution_count": null,
      "metadata": {
        "id": "njx1fVvq06qP",
        "colab": {
          "base_uri": "https://localhost:8080/"
        },
        "outputId": "fcfc44f7-7de2-4813-88c7-0acfe2b14394"
      },
      "outputs": [
        {
          "output_type": "stream",
          "name": "stdout",
          "text": [
            "Second last element : 40\n"
          ]
        }
      ],
      "source": [
        "t = (10, 20, 30, 40, 50)\n",
        "second_last = t[-2]\n",
        "print(\"Second last element :\", second_last)"
      ]
    },
    {
      "cell_type": "markdown",
      "source": [
        "**Q3 Write a program to count the number of times a given element appears in a tuple.**"
      ],
      "metadata": {
        "id": "qdc5R4C09crN"
      }
    },
    {
      "cell_type": "code",
      "source": [
        "t = (10, 20, 30, 40, 50, 20, 20)\n",
        "element = 20\n",
        "\n",
        "count = t.count(element)\n",
        "print(f\"Number of times {element} appears : {count}\")"
      ],
      "metadata": {
        "colab": {
          "base_uri": "https://localhost:8080/"
        },
        "id": "sFPxSEeL9bnF",
        "outputId": "e9c2266d-de0e-45ef-a795-576d34cd1cae"
      },
      "execution_count": null,
      "outputs": [
        {
          "output_type": "stream",
          "name": "stdout",
          "text": [
            "Number of times 20 appears : 3\n"
          ]
        }
      ]
    },
    {
      "cell_type": "markdown",
      "source": [
        "**Q4 Write a program to convert a tuple of strings into a single string. Example: ('Python', 'is', 'fun') -->\n",
        " 'Python is fun'.**"
      ],
      "metadata": {
        "id": "02He0H0J9_NY"
      }
    },
    {
      "cell_type": "code",
      "source": [
        "t = ('Python', 'is', 'fun')\n",
        "result = ' '.join(t)\n",
        "print(result)"
      ],
      "metadata": {
        "colab": {
          "base_uri": "https://localhost:8080/"
        },
        "id": "Ry-sYYD197Wy",
        "outputId": "15d0e546-9390-497c-b89b-aebb83ac66d9"
      },
      "execution_count": null,
      "outputs": [
        {
          "output_type": "stream",
          "name": "stdout",
          "text": [
            "Python is fun\n"
          ]
        }
      ]
    },
    {
      "cell_type": "markdown",
      "source": [
        "**Q5 Write a Python program to find the index of an element in a tuple.**"
      ],
      "metadata": {
        "id": "BF3F01FS-Szi"
      }
    },
    {
      "cell_type": "code",
      "source": [
        "t = (10, 20, 30, 40, 50)\n",
        "element = 40\n",
        "\n",
        "index = t.index(element)\n",
        "print(\"Index :\", index)"
      ],
      "metadata": {
        "colab": {
          "base_uri": "https://localhost:8080/"
        },
        "id": "dtEKddTx-RMi",
        "outputId": "5efabe44-d5cf-4dd7-d8b8-cdeb85e5b16f"
      },
      "execution_count": null,
      "outputs": [
        {
          "output_type": "stream",
          "name": "stdout",
          "text": [
            "Index : 3\n"
          ]
        }
      ]
    },
    {
      "cell_type": "markdown",
      "source": [
        "**Q6 Write a Python program to create two sets and perform union, intersection, and difference\n",
        " operations.**"
      ],
      "metadata": {
        "id": "lyp4_LHV-_no"
      }
    },
    {
      "cell_type": "code",
      "source": [
        "set1 = {1, 2, 3, 4, 5}\n",
        "set2 = {4, 5, 6, 7, 8}\n",
        "\n",
        "union = set1 | set2\n",
        "print(\"Union :\", union)\n",
        "\n",
        "intersection = set1 & set2\n",
        "print(\"Intersection :\", intersection)\n",
        "\n",
        "difference = set1 - set2\n",
        "print(\"Difference :\", difference)"
      ],
      "metadata": {
        "colab": {
          "base_uri": "https://localhost:8080/"
        },
        "id": "3xYJP0am-uyx",
        "outputId": "18fcb33f-8e55-4197-804f-fad3152a388e"
      },
      "execution_count": null,
      "outputs": [
        {
          "output_type": "stream",
          "name": "stdout",
          "text": [
            "Union : {1, 2, 3, 4, 5, 6, 7, 8}\n",
            "Intersection : {4, 5}\n",
            "Difference : {1, 2, 3}\n"
          ]
        }
      ]
    },
    {
      "cell_type": "markdown",
      "source": [
        "**Q7 Write a program to check if a given element is present in a set or not.**"
      ],
      "metadata": {
        "id": "p3Z5obYO_kLP"
      }
    },
    {
      "cell_type": "code",
      "source": [
        "set1 = {1, 2, 3, 4, 5}\n",
        "element = 3\n",
        "\n",
        "if element in set1:\n",
        "    print(f\"{element} is present in the set\")\n",
        "else:\n",
        "    print(f\"{element} is not present in the set\")"
      ],
      "metadata": {
        "colab": {
          "base_uri": "https://localhost:8080/"
        },
        "id": "400G_PEo_PkY",
        "outputId": "dc6fda4b-0c81-4b85-a855-f4231368e9a3"
      },
      "execution_count": null,
      "outputs": [
        {
          "output_type": "stream",
          "name": "stdout",
          "text": [
            "3 is present in the set\n"
          ]
        }
      ]
    },
    {
      "cell_type": "markdown",
      "source": [
        "**Q8 Write a program to remove duplicate elements from a list using a set.**"
      ],
      "metadata": {
        "id": "m3tmbZlT_7iK"
      }
    },
    {
      "cell_type": "code",
      "source": [
        "list1 = [1, 2, 2, 3, 4, 4, 5]\n",
        "\n",
        "unique_list = list(set(list1))\n",
        "\n",
        "print(\"List with duplicates removed:\", unique_list)"
      ],
      "metadata": {
        "colab": {
          "base_uri": "https://localhost:8080/"
        },
        "id": "_GfmA8Kv_5mu",
        "outputId": "a0f77944-9975-42fb-a403-60f27fe6f5e3"
      },
      "execution_count": null,
      "outputs": [
        {
          "output_type": "stream",
          "name": "stdout",
          "text": [
            "List with duplicates removed: [1, 2, 3, 4, 5]\n"
          ]
        }
      ]
    },
    {
      "cell_type": "markdown",
      "source": [
        "**Q9 Write a Python program to find the symmetric difference between two sets.**"
      ],
      "metadata": {
        "id": "4F55gFMuAce5"
      }
    },
    {
      "cell_type": "code",
      "source": [
        "set1 = {1, 2, 3, 4}\n",
        "set2 = {3, 4, 5, 6}\n",
        "\n",
        "symmetric_diff = set1 ^ set2                                        # Using the ^ operator\n",
        "print(\"Symmetric difference (using ^):\", symmetric_diff)\n",
        "\n",
        "symmetric_diff = set1.symmetric_difference(set2)                    # Using the .symmetric_difference() method\n",
        "print(\"Symmetric difference (using method):\", symmetric_diff)"
      ],
      "metadata": {
        "colab": {
          "base_uri": "https://localhost:8080/"
        },
        "id": "oxzxcTCLASHV",
        "outputId": "cf77b52d-bd67-4b3e-aecd-804467c80741"
      },
      "execution_count": null,
      "outputs": [
        {
          "output_type": "stream",
          "name": "stdout",
          "text": [
            "Symmetric difference (using ^): {1, 2, 5, 6}\n",
            "Symmetric difference (using method): {1, 2, 5, 6}\n"
          ]
        }
      ]
    },
    {
      "cell_type": "markdown",
      "source": [
        "**Q10 Given a list of numbers, write a Python program to find all unique elements using sets.**"
      ],
      "metadata": {
        "id": "dC6iqUj4BF3K"
      }
    },
    {
      "cell_type": "code",
      "source": [
        "numbers = [2, 3, 4, 2, 5, 6, 3, 7]\n",
        "\n",
        "unique_numbers = set(numbers)\n",
        "\n",
        "print(\"Unique elements:\", unique_numbers)"
      ],
      "metadata": {
        "colab": {
          "base_uri": "https://localhost:8080/"
        },
        "id": "1IpYjNbeAq6U",
        "outputId": "e157fba4-c502-4dbd-ecb6-abccd919aeca"
      },
      "execution_count": null,
      "outputs": [
        {
          "output_type": "stream",
          "name": "stdout",
          "text": [
            "Unique elements: {2, 3, 4, 5, 6, 7}\n"
          ]
        }
      ]
    },
    {
      "cell_type": "markdown",
      "source": [
        "## **Assignment 7**"
      ],
      "metadata": {
        "id": "-oDvpFVEBYaU"
      }
    },
    {
      "cell_type": "markdown",
      "source": [
        "**Q1 Write a function to find the factorial of a number using recursion.**"
      ],
      "metadata": {
        "id": "h4mE60OxBwnb"
      }
    },
    {
      "cell_type": "code",
      "source": [
        "def factorial(n):\n",
        "    if n == 0 or n == 1:\n",
        "        return 1\n",
        "    else:\n",
        "        return n * factorial(n - 1)\n",
        "\n",
        "number = int(input('Enter a number : '))\n",
        "print(f\"The factorial of {number} is {factorial(number)}\")"
      ],
      "metadata": {
        "colab": {
          "base_uri": "https://localhost:8080/"
        },
        "id": "bRpuI_bBBfOJ",
        "outputId": "c686c8c9-5402-4181-dd86-d904650f7f09"
      },
      "execution_count": null,
      "outputs": [
        {
          "output_type": "stream",
          "name": "stdout",
          "text": [
            "Enter a number : 7\n",
            "The factorial of 7 is 5040\n"
          ]
        }
      ]
    },
    {
      "cell_type": "markdown",
      "source": [
        "**Q2 Write a function that checks whether a number is prime or not.**"
      ],
      "metadata": {
        "id": "PUg1ZA2rC1YP"
      }
    },
    {
      "cell_type": "code",
      "source": [
        "def is_prime(n):\n",
        "    if n <= 1:\n",
        "        return False\n",
        "    for i in range(2, int(n**0.5) + 1):\n",
        "        if n % i == 0:\n",
        "            return False\n",
        "    return True\n",
        "\n",
        "number = int(input(\"Enter a number: \"))\n",
        "if is_prime(number):\n",
        "    print(f\"{number} is a prime number.\")\n",
        "else:\n",
        "    print(f\"{number} is not a prime number.\")"
      ],
      "metadata": {
        "colab": {
          "base_uri": "https://localhost:8080/"
        },
        "id": "iNGzDWKRCOXa",
        "outputId": "6a6c4637-d4ef-4f9e-938b-84db9f8f5db0"
      },
      "execution_count": null,
      "outputs": [
        {
          "output_type": "stream",
          "name": "stdout",
          "text": [
            "Enter a number: 7\n",
            "7 is a prime number.\n"
          ]
        }
      ]
    },
    {
      "cell_type": "markdown",
      "source": [
        "**Q3 Create a function that takes a string as input and returns the number of vowels in it.**"
      ],
      "metadata": {
        "id": "puhToLsxD32J"
      }
    },
    {
      "cell_type": "code",
      "source": [
        "def count_vowels(s):\n",
        "    vowels = \"aeiou\"\n",
        "    count = 0\n",
        "    for char in s:\n",
        "        if char in vowels:\n",
        "            count += 1\n",
        "    return count\n",
        "\n",
        "string = input(\"Enter a string : \")\n",
        "print(\"Number of vowels :\", count_vowels(string))"
      ],
      "metadata": {
        "colab": {
          "base_uri": "https://localhost:8080/"
        },
        "id": "mesJsqatDo2M",
        "outputId": "5374d793-2714-4a49-b811-e6dc15fd628b"
      },
      "execution_count": null,
      "outputs": [
        {
          "output_type": "stream",
          "name": "stdout",
          "text": [
            "Enter a string : Tremendous\n",
            "Number of vowels : 4\n"
          ]
        }
      ]
    },
    {
      "cell_type": "markdown",
      "source": [
        "**Q4 Write a function that accepts a list of numbers and returns the maximum and minimum values.**"
      ],
      "metadata": {
        "id": "08fXg1ITEprR"
      }
    },
    {
      "cell_type": "code",
      "source": [
        "def find_max_and_min(numbers):\n",
        "    if not numbers:\n",
        "        return None, None\n",
        "    return max(numbers), min(numbers)\n",
        "\n",
        "nums = [3, 1, 4, 1, 5, 9, 2]\n",
        "maximum, minimum = find_max_and_min(nums)\n",
        "print(\"Maximum :\", maximum)\n",
        "print(\"Minimum :\", minimum)"
      ],
      "metadata": {
        "colab": {
          "base_uri": "https://localhost:8080/"
        },
        "id": "A5-ohNZGEMw8",
        "outputId": "3ae3d7c0-c3ce-46bb-bab6-168c1cae4547"
      },
      "execution_count": null,
      "outputs": [
        {
          "output_type": "stream",
          "name": "stdout",
          "text": [
            "Maximum : 9\n",
            "Minimum : 1\n"
          ]
        }
      ]
    },
    {
      "cell_type": "markdown",
      "source": [
        "**Q5 Write a Python function to calculate the nth Fibonacci number using recursion.**"
      ],
      "metadata": {
        "id": "jZ09vYV8FKe2"
      }
    },
    {
      "cell_type": "code",
      "source": [
        "def fibonacci_number(n):\n",
        "    if n < 0:\n",
        "        raise ValueError(\"n must be a non-negative integer\")\n",
        "    if n == 0:\n",
        "        return 0\n",
        "    elif n == 1:\n",
        "        return 1\n",
        "    else:\n",
        "        return fibonacci_number(n-1) + fibonacci_number(n-2)\n",
        "\n",
        "n = int(input(\"Enter a number : \"))\n",
        "print(f\"The {n}th Fibonacci number is :\", fibonacci_number(n))"
      ],
      "metadata": {
        "colab": {
          "base_uri": "https://localhost:8080/"
        },
        "id": "Oz0vBTkPGjV-",
        "outputId": "229c1101-81d4-4f8a-f24c-ac374fc00641"
      },
      "execution_count": null,
      "outputs": [
        {
          "output_type": "stream",
          "name": "stdout",
          "text": [
            "Enter a number : 11\n",
            "The 11th Fibonacci number is : 89\n"
          ]
        }
      ]
    },
    {
      "cell_type": "markdown",
      "source": [
        "**Q6 Create a function that accepts two numbers and returns their greatest common divisor (GCD).**"
      ],
      "metadata": {
        "id": "4Ry8essxHaNM"
      }
    },
    {
      "cell_type": "code",
      "source": [
        "def gcd(a, b):\n",
        "    if b == 0:\n",
        "        return a\n",
        "    else:\n",
        "        return gcd(b, a % b)\n",
        "\n",
        "print(gcd(56, 98))"
      ],
      "metadata": {
        "colab": {
          "base_uri": "https://localhost:8080/"
        },
        "id": "XdNfvTObHVQM",
        "outputId": "1a260a24-e8b1-424c-ee22-3199d516c10f"
      },
      "execution_count": null,
      "outputs": [
        {
          "output_type": "stream",
          "name": "stdout",
          "text": [
            "14\n"
          ]
        }
      ]
    },
    {
      "cell_type": "markdown",
      "source": [
        "**Q7 Write a function that takes a list and returns a new list with only unique elements.**"
      ],
      "metadata": {
        "id": "2s4GBm2KH55T"
      }
    },
    {
      "cell_type": "code",
      "source": [
        "def unique_elements(lst):\n",
        "    return list(set(lst))\n",
        "\n",
        "print('Unique Elements are :', unique_elements([1, 2, 2, 3, 4, 4, 5]))"
      ],
      "metadata": {
        "colab": {
          "base_uri": "https://localhost:8080/"
        },
        "id": "z8qChxQ_H32j",
        "outputId": "0bc168a9-9c5e-45aa-9661-c1d643d4b168"
      },
      "execution_count": null,
      "outputs": [
        {
          "output_type": "stream",
          "name": "stdout",
          "text": [
            "Unique Elements are : [1, 2, 3, 4, 5]\n"
          ]
        }
      ]
    },
    {
      "cell_type": "markdown",
      "source": [
        "**Q8 Write a function to count the frequency of each word in a given string.**"
      ],
      "metadata": {
        "id": "WcxAVluVIWO_"
      }
    },
    {
      "cell_type": "code",
      "source": [
        "from collections import Counter\n",
        "\n",
        "def word_frequency(s):\n",
        "    return dict(Counter(s.split()))\n",
        "\n",
        "text = \"Data science is the future, and the future is Data driven\"\n",
        "print(word_frequency(text))"
      ],
      "metadata": {
        "colab": {
          "base_uri": "https://localhost:8080/"
        },
        "id": "MVpa8X7UIHM9",
        "outputId": "25bf1938-6b42-4050-db73-b11e6a558777"
      },
      "execution_count": null,
      "outputs": [
        {
          "output_type": "stream",
          "name": "stdout",
          "text": [
            "{'Data': 2, 'science': 1, 'is': 2, 'the': 2, 'future,': 1, 'and': 1, 'future': 1, 'driven': 1}\n"
          ]
        }
      ]
    },
    {
      "cell_type": "markdown",
      "source": [
        "**Q9 Write a function that takes a number and returns True if it is a palindrome, otherwise False.**"
      ],
      "metadata": {
        "id": "72KWcqHGJQCL"
      }
    },
    {
      "cell_type": "code",
      "source": [
        "def is_palindrome(number):\n",
        "    original = str(number)\n",
        "    return original == original[::-1]\n",
        "\n",
        "num = 12321\n",
        "print(is_palindrome(num))\n",
        "\n",
        "num = 12345\n",
        "print(is_palindrome(num))"
      ],
      "metadata": {
        "colab": {
          "base_uri": "https://localhost:8080/"
        },
        "id": "muyD_zJGIrIx",
        "outputId": "42878447-c7b9-4905-88a8-92a9ad1b6779"
      },
      "execution_count": null,
      "outputs": [
        {
          "output_type": "stream",
          "name": "stdout",
          "text": [
            "True\n",
            "False\n"
          ]
        }
      ]
    },
    {
      "cell_type": "markdown",
      "source": [
        "**Q10 Create a function that takes a temperature in Celsius and returns it in Fahrenheit.**"
      ],
      "metadata": {
        "id": "JI-P0vtNJsUZ"
      }
    },
    {
      "cell_type": "code",
      "source": [
        "def celsius_to_fahrenheit(celsius):\n",
        "    return (celsius * 9/5) + 32\n",
        "\n",
        "temp_celsius = int(input(\"Enter temperature in Celsius : \"))\n",
        "print(f\"{temp_celsius}°C is {celsius_to_fahrenheit(temp_celsius)}°F\")"
      ],
      "metadata": {
        "colab": {
          "base_uri": "https://localhost:8080/"
        },
        "id": "mQPFZib3Jl2X",
        "outputId": "595ddb63-b2b4-4ceb-a127-06dcb535c908"
      },
      "execution_count": null,
      "outputs": [
        {
          "output_type": "stream",
          "name": "stdout",
          "text": [
            "Enter temperature in Celsius : 37\n",
            "37°C is 98.6°F\n"
          ]
        }
      ]
    },
    {
      "cell_type": "markdown",
      "source": [
        "## **Assignment 8**"
      ],
      "metadata": {
        "id": "i6c66tf2ppKC"
      }
    },
    {
      "cell_type": "markdown",
      "source": [
        "**Q1 Write a Python program to create a new text file and write the text 'Hello, File Handling!' to it.**"
      ],
      "metadata": {
        "id": "nnXPR9o0p2L3"
      }
    },
    {
      "cell_type": "code",
      "source": [
        "with open('new_file.txt', 'w') as f:\n",
        "  f.write('Hello, File Handling!')\n",
        "  print(f.read)"
      ],
      "metadata": {
        "colab": {
          "base_uri": "https://localhost:8080/"
        },
        "id": "MjMjLJv8pt4g",
        "outputId": "c897e366-0d21-46f3-c117-91028e55cfb0"
      },
      "execution_count": null,
      "outputs": [
        {
          "output_type": "stream",
          "name": "stdout",
          "text": [
            "<built-in method read of _io.TextIOWrapper object at 0x7aed296d92f0>\n"
          ]
        }
      ]
    },
    {
      "cell_type": "markdown",
      "source": [
        "**Q2 Write a Python program to read the contents of 'example.txt' and display them on the screen.**\n",
        "\n"
      ],
      "metadata": {
        "id": "Z7N1dPflqi9u"
      }
    },
    {
      "cell_type": "code",
      "source": [
        "with open('example.txt', 'w') as file:\n",
        "    file.write(\"This is an example file.\\nHello, Python!\")\n",
        "\n",
        "with open('example.txt', 'r') as file:\n",
        "    contents = file.read()\n",
        "print(contents)"
      ],
      "metadata": {
        "id": "txQeJvvGqIp2",
        "colab": {
          "base_uri": "https://localhost:8080/"
        },
        "outputId": "4642abf5-cd35-4d09-e6eb-53c60758e245"
      },
      "execution_count": null,
      "outputs": [
        {
          "output_type": "stream",
          "name": "stdout",
          "text": [
            "This is an example file.\n",
            "Hello, Python!\n"
          ]
        }
      ]
    },
    {
      "cell_type": "markdown",
      "source": [
        "**Q3 Write a Python program to count the number of words in a given text file.**"
      ],
      "metadata": {
        "id": "KopHTjLK-VMA"
      }
    },
    {
      "cell_type": "code",
      "source": [
        "filename = 'example.txt'\n",
        "\n",
        "try:\n",
        "    with open(filename, 'r') as file:\n",
        "        contents = file.read()\n",
        "        words = contents.split()\n",
        "        word_count = len(words)\n",
        "    print(f\"The number of words in '{filename}' is: {word_count}\")\n",
        "except FileNotFoundError:\n",
        "    print(f\"Error: The file '{filename}' was not found.\")\n",
        "except Exception as e:\n",
        "    print(f\"An error occurred: {e}\")"
      ],
      "metadata": {
        "colab": {
          "base_uri": "https://localhost:8080/"
        },
        "id": "XVEA4orr9rJi",
        "outputId": "bd0ed78d-b1e4-432f-bcdd-245cc4684ded"
      },
      "execution_count": null,
      "outputs": [
        {
          "output_type": "stream",
          "name": "stdout",
          "text": [
            "The number of words in 'example.txt' is: 7\n"
          ]
        }
      ]
    },
    {
      "cell_type": "markdown",
      "source": [
        "**Q4 Write a Python program to read a file and print only those lines which start with the letter 'A'.**"
      ],
      "metadata": {
        "id": "5X8XSwoEFwkZ"
      }
    },
    {
      "cell_type": "code",
      "source": [
        "with open(\"sample.txt\", \"w\") as file:\n",
        "    file.write(\"Apple is a fruit.\\n\")\n",
        "    file.write(\"Banana is yellow.\\n\")\n",
        "    file.write(\"Ants are insects.\\n\")\n",
        "    file.write(\"Orange is citrus.\\n\")\n",
        "    file.write(\"Alligator is a reptile.\\n\")\n",
        "\n",
        "filename = \"sample.txt\"\n",
        "\n",
        "with open(filename, 'r') as file:\n",
        "    for line in file:\n",
        "        if line.startswith('A'):\n",
        "            print(line, end='')"
      ],
      "metadata": {
        "colab": {
          "base_uri": "https://localhost:8080/"
        },
        "id": "A0RfyrGFFtDZ",
        "outputId": "75f2c5d7-d406-456e-b8af-b21f6cdcfc12"
      },
      "execution_count": null,
      "outputs": [
        {
          "output_type": "stream",
          "name": "stdout",
          "text": [
            "Apple is a fruit.\n",
            "Ants are insects.\n",
            "Alligator is a reptile.\n"
          ]
        }
      ]
    },
    {
      "cell_type": "markdown",
      "source": [
        "**Q5 Write a Python program to merge the contents of two files into a third file.**"
      ],
      "metadata": {
        "id": "ua3MIqOFGgcd"
      }
    },
    {
      "cell_type": "code",
      "source": [
        "with open(\"file1.txt\", \"w\") as f:\n",
        "    f.write(\"This is file 1.\\n\")\n",
        "with open(\"file2.txt\", \"w\") as f:\n",
        "    f.write(\"This is file 2.\\n\")\n",
        "\n",
        "file1 = \"file1.txt\"\n",
        "file2 = \"file2.txt\"\n",
        "merged_file = \"merged.txt\"\n",
        "\n",
        "with open(merged_file, \"w\") as outfile:\n",
        "    with open(file1, \"r\") as infile:\n",
        "        outfile.write(infile.read())\n",
        "    with open(file2, \"r\") as infile:\n",
        "        outfile.write(infile.read())\n",
        "\n",
        "with open(merged_file, \"r\") as f:\n",
        "    print(\"The Merged File is:\")\n",
        "    print(f.read())"
      ],
      "metadata": {
        "colab": {
          "base_uri": "https://localhost:8080/"
        },
        "id": "x7u2_dZOGRSd",
        "outputId": "e8ae9515-e40b-4ae6-d406-8d8cdd8fb03c"
      },
      "execution_count": null,
      "outputs": [
        {
          "output_type": "stream",
          "name": "stdout",
          "text": [
            "The Merged File is:\n",
            "This is file 1.\n",
            "This is file 2.\n",
            "\n"
          ]
        }
      ]
    },
    {
      "cell_type": "markdown",
      "source": [
        "**Q6 Write a Python program that reads a text file and prints its content in reverse order (last line first).**"
      ],
      "metadata": {
        "id": "FJ9l7LwUIs4i"
      }
    },
    {
      "cell_type": "code",
      "source": [
        "with open(\"original.txt\", \"w\") as file:\n",
        "    file.write(\"First line.\\n\")\n",
        "    file.write(\"Second line.\\n\")\n",
        "    file.write(\"Third line.\\n\")\n",
        "    file.write(\"Fourth line.\\n\")\n",
        "\n",
        "filename = \"original.txt\"\n",
        "\n",
        "with open(filename, \"r\") as file:\n",
        "    lines = file.readlines()\n",
        "\n",
        "print(\"Contents in reverse order:\")\n",
        "for line in reversed(lines):\n",
        "    print(line, end='')"
      ],
      "metadata": {
        "colab": {
          "base_uri": "https://localhost:8080/"
        },
        "id": "EfLMxf8NHENH",
        "outputId": "a72a6a65-fe06-467e-8d0e-d5901df24ed0"
      },
      "execution_count": null,
      "outputs": [
        {
          "output_type": "stream",
          "name": "stdout",
          "text": [
            "Contents in reverse order:\n",
            "Fourth line.\n",
            "Third line.\n",
            "Second line.\n",
            "First line.\n"
          ]
        }
      ]
    },
    {
      "cell_type": "markdown",
      "source": [
        "**Q7 Write a Python program to find and replace a word in a file (e.g., replace 'old' with 'new').**"
      ],
      "metadata": {
        "id": "uvCQxi3FJ8Sk"
      }
    },
    {
      "cell_type": "code",
      "source": [
        "with open(\"oldfile.txt\", \"w\") as file:\n",
        "    file.write(\"This is the old text.\\n\")\n",
        "    file.write(\"The old cat sat on the mat.\\n\")\n",
        "    file.write(\"The old habits die hard.\\n\")\n",
        "    file.write(\"We need to replace old with latest.\\n\")\n",
        "\n",
        "\n",
        "filename = \"oldfile.txt\"\n",
        "\n",
        "old_word = \"old\"\n",
        "new_word = \"new\"\n",
        "\n",
        "with open(filename, \"r\") as file:\n",
        "    content = file.read()\n",
        "\n",
        "content = content.replace(old_word, new_word)\n",
        "\n",
        "with open(filename, \"w\") as file:\n",
        "    file.write(content)\n",
        "\n",
        "with open(\"oldfile.txt\", \"r\") as file:\n",
        "    print(\"Final file contents: \\n\")\n",
        "    print(file.read())"
      ],
      "metadata": {
        "colab": {
          "base_uri": "https://localhost:8080/"
        },
        "id": "nExAcpa5JSMn",
        "outputId": "6448dcf3-5d88-4479-93b9-0770ad26eebc"
      },
      "execution_count": null,
      "outputs": [
        {
          "output_type": "stream",
          "name": "stdout",
          "text": [
            "Final file contents: \n",
            "\n",
            "This is the new text.\n",
            "The new cat sat on the mat.\n",
            "The new habits die hard.\n",
            "We need to replace new with latest.\n",
            "\n"
          ]
        }
      ]
    },
    {
      "cell_type": "markdown",
      "source": [
        "**Q8 Write a Python program to create a log file and append timestamps whenever the program is run.**"
      ],
      "metadata": {
        "id": "fPe5uvjiLt3y"
      }
    },
    {
      "cell_type": "code",
      "source": [
        "import datetime\n",
        "import pytz\n",
        "\n",
        "log_file = \"program_log.txt\"\n",
        "\n",
        "ist = pytz.timezone('Asia/Kolkata')\n",
        "now = datetime.datetime.now(ist)\n",
        "\n",
        "timestamp = now.strftime(\"%d-%m-%Y %H:%M:%S %Z\")\n",
        "\n",
        "print(\"Current timestamp (IST):\", timestamp)\n",
        "\n",
        "with open(log_file, \"a\") as file:\n",
        "    file.write(f\"Program run at: {timestamp}\\n\")\n",
        "\n",
        "print(f\"Timestamp logged to {log_file}\")"
      ],
      "metadata": {
        "colab": {
          "base_uri": "https://localhost:8080/"
        },
        "id": "7kvZO1WSKNmj",
        "outputId": "bfbf1529-80b9-41c7-e20c-de236f51a5e1"
      },
      "execution_count": null,
      "outputs": [
        {
          "output_type": "stream",
          "name": "stdout",
          "text": [
            "Current timestamp (IST): 23-06-2025 15:24:31 IST\n",
            "Timestamp logged to program_log.txt\n"
          ]
        }
      ]
    },
    {
      "cell_type": "markdown",
      "source": [
        "**Q9 Write a Python program to store and read student records (name and marks) from a file.**"
      ],
      "metadata": {
        "id": "_axMPZb2NghR"
      }
    },
    {
      "cell_type": "code",
      "source": [
        "def store_student_records(filename):\n",
        "    students = []\n",
        "    print(\"Enter student records (name and marks). Enter 'done' to finish.\")\n",
        "    while True:\n",
        "        name = input(\"Enter student name: \")\n",
        "        if name.lower() == 'done':\n",
        "            break\n",
        "        marks = input(\"Enter marks: \")\n",
        "        students.append(f\"{name},{marks}\\n\")\n",
        "\n",
        "    with open(filename, \"w\") as file:\n",
        "        file.writelines(students)\n",
        "    print(\"Student records saved to\", filename)\n",
        "\n",
        "def read_student_records(filename):\n",
        "    try:\n",
        "        with open(filename, \"r\") as file:\n",
        "            print(\"\\nStudent Records:\")\n",
        "            for line in file:\n",
        "                name, marks = line.strip().split(',')\n",
        "                print(f\"Name: {name}, Marks: {marks}\")\n",
        "    except FileNotFoundError:\n",
        "        print(\"File not found. Please store records first.\")\n",
        "\n",
        "# Main program\n",
        "filename = \"student_records.txt\"\n",
        "store_student_records(filename)\n",
        "read_student_records(filename)\n"
      ],
      "metadata": {
        "colab": {
          "base_uri": "https://localhost:8080/"
        },
        "id": "Ae9ZQhavL6lR",
        "outputId": "62b29fc4-dc02-4ad3-c4ab-e492fd6e3129"
      },
      "execution_count": null,
      "outputs": [
        {
          "output_type": "stream",
          "name": "stdout",
          "text": [
            "Enter student records (name and marks). Enter 'done' to finish.\n",
            "Enter student name: Arsh Raj\n",
            "Enter marks: 467\n",
            "Enter student name: Aditya Marandi\n",
            "Enter marks: 345\n",
            "Enter student name: done\n",
            "Student records saved to student_records.txt\n",
            "\n",
            "Student Records:\n",
            "Name: Arsh Raj, Marks: 467\n",
            "Name: Aditya Marandi, Marks: 345\n"
          ]
        }
      ]
    },
    {
      "cell_type": "markdown",
      "source": [
        "**Q10 Write a Python program to copy an image file (binary mode) from one location to another.**"
      ],
      "metadata": {
        "id": "4GX7BKutun-7"
      }
    },
    {
      "cell_type": "code",
      "source": [
        "source = 'wallpaper 5.png'\n",
        "destination = 'copy_image.png'\n",
        "\n",
        "try:\n",
        "    with open(source, 'rb') as src_file:\n",
        "        with open(destination, 'wb') as dest_file:\n",
        "            dest_file.write(src_file.read())\n",
        "    print(f\"Image copied from '{source}' to '{destination}' successfully!\")\n",
        "except FileNotFoundError:\n",
        "    print(f\"Error: The file '{source}' was not found.\")\n",
        "except Exception as e:\n",
        "    print(f\"An error occurred: {e}\")\n",
        "\n"
      ],
      "metadata": {
        "id": "gxzn3lT5NvEf",
        "colab": {
          "base_uri": "https://localhost:8080/"
        },
        "outputId": "823c0589-66ed-4a93-d53b-20e8a503fa8f"
      },
      "execution_count": null,
      "outputs": [
        {
          "output_type": "stream",
          "name": "stdout",
          "text": [
            "Image copied from 'wallpaper 5.png' to 'copy_image.png' successfully!\n"
          ]
        }
      ]
    },
    {
      "cell_type": "markdown",
      "source": [
        "## **Assignment 9**"
      ],
      "metadata": {
        "id": "0EWqFVNq127l"
      }
    },
    {
      "cell_type": "code",
      "source": [
        "!pip install numpy"
      ],
      "metadata": {
        "colab": {
          "base_uri": "https://localhost:8080/"
        },
        "id": "qqMMUeq32QBl",
        "outputId": "ca425bb7-9248-4789-b9ae-531bb474a853"
      },
      "execution_count": 1,
      "outputs": [
        {
          "output_type": "stream",
          "name": "stdout",
          "text": [
            "Requirement already satisfied: numpy in /usr/local/lib/python3.11/dist-packages (2.0.2)\n"
          ]
        }
      ]
    },
    {
      "cell_type": "code",
      "source": [
        "import numpy as np"
      ],
      "metadata": {
        "id": "ALuTqAkc2dGd"
      },
      "execution_count": 2,
      "outputs": []
    },
    {
      "cell_type": "code",
      "source": [
        "print(np.__version__)"
      ],
      "metadata": {
        "colab": {
          "base_uri": "https://localhost:8080/"
        },
        "id": "cOfRKqdd2dby",
        "outputId": "bda86af6-fbcc-4a98-c4a1-b7a9d56966dc"
      },
      "execution_count": 3,
      "outputs": [
        {
          "output_type": "stream",
          "name": "stdout",
          "text": [
            "2.0.2\n"
          ]
        }
      ]
    },
    {
      "cell_type": "markdown",
      "source": [
        "**Q1 Create a NumPy array with values from 1 to 10. Print the shape, dimension, and data type of the array.**"
      ],
      "metadata": {
        "id": "UpygNSk72CuQ"
      }
    },
    {
      "cell_type": "code",
      "source": [
        "arr = np.arange(1, 11)\n",
        "print(\"Array:\", arr)\n",
        "print(\"Shape:\", arr.shape)\n",
        "print(\"Dimension:\", arr.ndim)\n",
        "print(\"Data type:\", arr.dtype)"
      ],
      "metadata": {
        "colab": {
          "base_uri": "https://localhost:8080/"
        },
        "id": "GwAWpXey17QH",
        "outputId": "44a37077-8b08-468e-db78-f52460323f50"
      },
      "execution_count": 4,
      "outputs": [
        {
          "output_type": "stream",
          "name": "stdout",
          "text": [
            "Array: [ 1  2  3  4  5  6  7  8  9 10]\n",
            "Shape: (10,)\n",
            "Dimension: 1\n",
            "Data type: int64\n"
          ]
        }
      ]
    },
    {
      "cell_type": "markdown",
      "source": [
        "**Q2 Create a 3x3 NumPy array of all zeros and another of all ones. Then create a 3x3 identity matrix.**"
      ],
      "metadata": {
        "id": "xcoyrHcP3EwI"
      }
    },
    {
      "cell_type": "code",
      "source": [],
      "metadata": {
        "id": "2zi4KHcx2v6f"
      },
      "execution_count": null,
      "outputs": []
    }
  ],
  "metadata": {
    "colab": {
      "collapsed_sections": [
        "MIogQuwQGZtK",
        "g78KTdccTzBg",
        "d1TYKjejqWC8",
        "QN1UrEbsGBrq",
        "O0CYwL84m1PY",
        "ZfNoKDRBy083",
        "-oDvpFVEBYaU"
      ],
      "provenance": []
    },
    "kernelspec": {
      "display_name": "Python 3",
      "name": "python3"
    },
    "language_info": {
      "name": "python"
    }
  },
  "nbformat": 4,
  "nbformat_minor": 0
}